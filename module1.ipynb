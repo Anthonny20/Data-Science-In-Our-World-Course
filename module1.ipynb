{
 "cells": [
  {
   "cell_type": "markdown",
   "id": "a4286c32",
   "metadata": {},
   "source": [
    "What is data science?"
   ]
  },
  {
   "cell_type": "markdown",
   "id": "de671166",
   "metadata": {},
   "source": [
    "Introduction: In this module, you will learn how you can explain what data science is to people. You will also learn about the 5 Whys technique and how to use it to identify the root cause of problem. Finally, you'll learn about similiarities and differences between data analytics and data science."
   ]
  },
  {
   "cell_type": "markdown",
   "id": "b365dac7",
   "metadata": {},
   "source": [
    "Learning Objectives"
   ]
  },
  {
   "cell_type": "markdown",
   "id": "c3c1d054",
   "metadata": {},
   "source": [
    "After completing this module, you shoud be able to:\n",
    "\n",
    "    - Define Data Science\n",
    "    - Recognize the importance of being curious to solve problems with data\n",
    "    - Differentiate between the fields of data analytics and data science"
   ]
  },
  {
   "cell_type": "markdown",
   "id": "c66516ed",
   "metadata": {},
   "source": [
    "What is science?\n",
    "\n",
    "Science is a system or method reconciling practical ends with scientific laws."
   ]
  },
  {
   "cell_type": "markdown",
   "id": "c63162c1",
   "metadata": {},
   "source": [
    "What is Data Science?\n",
    "\n",
    "Data science is the understanding of the world through the scientific analysis of digital data."
   ]
  },
  {
   "cell_type": "markdown",
   "id": "7495877b",
   "metadata": {},
   "source": [
    "Data Science combines the scientific method, math and statistics, specialized programming, advanced analytics, artificial intelligence (AI), and even storytelling to uncover and explain the business insights buried in data.\n",
    "\n",
    "Data science is a multidisciplinary approach to extracting actionable insights from the large and ever-increasing volumes of data collected and created by today's businesses."
   ]
  },
  {
   "cell_type": "markdown",
   "id": "56a0875b",
   "metadata": {},
   "source": [
    "The goal of data science is to extract value from data in all its forms.\n",
    "\n",
    "People who work in data science prepare data for analysis and processing, perform advanced data analysis, and present the results to reveal patterns and enable stakeholders to draw informed conclusions. People who work in data science also use technologies and tools to build models to predict outcomes, discover underlying patters, and gain insights that can lead to actions that improve future outcomes."
   ]
  },
  {
   "cell_type": "markdown",
   "id": "e53583ef",
   "metadata": {},
   "source": [
    "Data is a commodity. Businessess need ways to process data to find its value. Data science is a scientific process that's repeatable. That's not to say data science is mechanical and void of creativity. But data processing, from collecting data sources and data cleansing to machine learning and eventually visualization, includes unique steps that are involved in transforming raw data into insight."
   ]
  },
  {
   "cell_type": "markdown",
   "id": "41c89b98",
   "metadata": {},
   "source": [
    "What do yoy think?"
   ]
  },
  {
   "cell_type": "markdown",
   "id": "02a8be2e",
   "metadata": {},
   "source": [
    "Imagine you are having a phone conversation with a friend or family member. Take a moment to think about how you would describe data science to them."
   ]
  },
  {
   "cell_type": "markdown",
   "id": "7a7c944b",
   "metadata": {},
   "source": [
    "I think data science is the process of getting insights from data to be able to make businessess decisions, this is overview of the subject. We still have the whole process of getting the data, analyze the data, explore and clean the data."
   ]
  },
  {
   "cell_type": "markdown",
   "id": "9c446615",
   "metadata": {},
   "source": [
    "Evaluating my thinking"
   ]
  },
  {
   "cell_type": "markdown",
   "id": "ca5969b9",
   "metadata": {},
   "source": [
    "Data science can help people find value and gain business insights from data. Data science follows a process, uses tools and technologies, and builds models to discover patterns to improve future outcomes."
   ]
  },
  {
   "cell_type": "markdown",
   "id": "4e28f971",
   "metadata": {},
   "source": [
    "Be Curious"
   ]
  },
  {
   "cell_type": "markdown",
   "id": "6dad0764",
   "metadata": {},
   "source": [
    "Data scientists who work with data begin by asking questions that start with \"why\"? For instance, why did life move from primordial oceans to land? Did the moon and the tides have something to do with it?\n",
    "\n",
    "One of the most important characteristics of a data scientist is to always be curious!"
   ]
  },
  {
   "cell_type": "markdown",
   "id": "3d37c27f",
   "metadata": {},
   "source": [
    "The 5 Whys"
   ]
  },
  {
   "cell_type": "markdown",
   "id": "1ce52737",
   "metadata": {},
   "source": [
    "When analyzing data, you'll find a problem and need to understand why. The 5 Whys is a valuable technique in problem solving that is easy to remember. You can determine the root cause of a problem by asking the question \"Why?\" five times.\n",
    "First ask a \"Why?\" question, get an answer, and then ask a second \"Why?\" question. And so on! Each answer will inform your next \"Why?\" question. The answer to the fifth \"Why?\" should reveal the root cause of the problem.\n",
    "Some problems have more than a single root cause. If you want to uncover multiple root causes, then the method must be repeated, asking different sequence of questions each time.\n",
    "\n",
    "Note: The number 5 is a rule of thumb and the number of \"Why?\" questions to ask can very."
   ]
  },
  {
   "cell_type": "markdown",
   "id": "accbb6d4",
   "metadata": {},
   "source": [
    "Explore the following example. The problem is that your vehicle won't start. Why?\n",
    "\n",
    "Start with the first why.\n",
    "\n",
    "- First Why: Why won't my car start?\n",
    "    Answer: The battery is dead.\n",
    "    Should I just replace the battery? Not yet!\n",
    "- Second Why: Why is the battery dead?\n",
    "    Answer: The alternator is not functioning.\n",
    "    Should I replace the alternator? Not yet!\n",
    "- Third Why: Why isn't the altenator functioning?\n",
    "    Answer: The alternator belt is broken.\n",
    "    Should I just replace the alternator? Not yet!\n",
    "- Fourth Why?: Why is the altenator belt broken?\n",
    "    Answer: The alternator belt is beyond its useful service life and has not been replaced.\n",
    "    Should I replace the alternator belt and move on? Not yet!\n",
    "- Fifth Why?: Why has the alternator belt not been replaced if it is beyond its useful service life? \n",
    "    Answer: The car has not been maintained according to the recommended service schedule.\n",
    "    Have I finished? Yes, you identified the root cause of the original problem!\n",
    "\n",
    "Solution: Replace the alternator belt and perform the recommended services on the car. This will enable the car to start and prevent the same and other preventable failures in the future.\n",
    "\n",
    "Note: When using the 5 Whys technique, avoid assumptions and the temptation to skip to the obvious answer!"
   ]
  },
  {
   "cell_type": "markdown",
   "id": "f5937ae3",
   "metadata": {},
   "source": [
    "Science, technology, and data are connected"
   ]
  },
  {
   "cell_type": "markdown",
   "id": "f55d0cf9",
   "metadata": {},
   "source": [
    "Science, technology, and data are areas that are linked and have given rise to data science. Keep this key concept in mind as you learn about the field of data science.\n",
    "\n",
    "    - A scientific background allows a data scientist to formulate a hypothesis and follow the scientific method.\n",
    "    - Working with technology and tools allows a data scientist to begin classifying data and making predictions.\n",
    "    - A data scientist can gain insight from structured data in relation databases and unstructured data, such as video footage, blogs, and tweets.\n",
    "\n",
    "Science and technology, and data have been linked since the early days of science in the 1300s and 1400s, Each area continues to evolve.\n",
    "\n",
    "Science gives people mathematics, such as linear algebra, statistics, probability theory, and more to help solve scientific problems.\n",
    "\n",
    "Technology gives people business intelligence, data mining, big data, predictive analysis, machine learning, and much more.\n",
    "\n",
    "Data gives people the current state of the world in which there is structured data(such as data sets and databases) and unstructured data(such as videos, blogs, images, and music).\n",
    "\n",
    "At this time in the science plus technology plus data world, data science is one of the most important fields."
   ]
  },
  {
   "cell_type": "markdown",
   "id": "0e68f8ec",
   "metadata": {},
   "source": [
    "Data Analytics versus Data Science"
   ]
  },
  {
   "cell_type": "markdown",
   "id": "89a989e5",
   "metadata": {},
   "source": [
    "Data analytics and data science are two terms that are often used in the same context. But, it's important to know they have different definitions.\n",
    "\n",
    "Both fields work with data, and they share the same goal: to translate data analysis into business intelligence.\n",
    "\n",
    "The main difference between data analytics and data science is in what data analysts and data scientists do with data, meaning the tactics used. Here is how they are differentiated:\n",
    "\n",
    "    - Data Analysts collect and examine large data sets to identify trends, forecasts, and data visualizations to tell a compelling story through actionable insights. These insights help businesses make informed decisions about business needs.\n",
    "\n",
    "    - Data Scientists design and create new processes for data modeling. They use algorithms, predictive analytics, and statistical analysis. Data scientists have technical skills to arrange unstructured data and build their own methodologies to make predictions based on data trends."
   ]
  },
  {
   "cell_type": "markdown",
   "id": "5a13d868",
   "metadata": {},
   "source": [
    "Data Analytics\n",
    "\n",
    "    - Data collection\n",
    "    - Data cleaning\n",
    "    - Data visualization\n",
    "    - Use of tools like Microsoft Excel and data visualization tools\n",
    "\n",
    "Data Science\n",
    "\n",
    "    - Predictive analysis\n",
    "    - Machine Learning\n",
    "    - Model training and deployment\n",
    "    - Use of tools like Apache Hadoop\n",
    "\n",
    "Both\n",
    "\n",
    "    - Analytical thinking\n",
    "    - Critical thinking\n",
    "    - Data storytelling\n",
    "    - Use of programming languages like Python\n",
    "\n",
    "\n",
    "You'll learn about the role of the data analyst, data scinetist, and the teams the work with on data science projects in this course."
   ]
  },
  {
   "cell_type": "markdown",
   "id": "396b1734",
   "metadata": {},
   "source": [
    "Quiz"
   ]
  },
  {
   "cell_type": "markdown",
   "id": "ba4145e8",
   "metadata": {},
   "source": [
    "Let's chech your knowledge about the concepts you just learned.\n",
    "\n",
    "This is a 4-question quiz. You must get 75% to pass it. Don't worry though! If you aren't successful at first, you can review the course content and retake the quiz as many times as needed for your course completion.\n",
    "\n",
    "1 - Which of the following statement is correct about data analytics and data science?\n",
    "\n",
    "    - Answer: They both work with data and share the same goal, which is to translate data analysis into business intelligence. The main difference between data analytics and data science is in what data analysts and scientists do with data, meaning the tactics used.\n",
    "\n",
    "2 - Which of the following are a part of data science?\n",
    "\n",
    "    - Answer: Math and statistics, Artificial intelligence (AI), and The scientific method. Data science combines the scientific method, math and statistics, specializaed programming, advanced analytics, artifical intelligence(AI), and even storytelling to uncover and explain the business insights buried in data.\n",
    "\n",
    "3 - Fill in the blank. An important characteristic of a data scientist is to be curious and begin by asking question that start with __________.\n",
    "\n",
    "    - Answer: Why. Data scientists begin by asking questions that start with \"Why?\" And they stay curious!\n",
    "\n",
    "4 - Which of the following statements is correct about data science?\n",
    "\n",
    "    Answer: Data science is a multidisciplinary approach to extract insights from large volumes of data. Data science is a multidisciplinary approach to extracting actionable insights from the large and ever-increasing volumes of data collected and created by today's businesses."
   ]
  }
 ],
 "metadata": {
  "kernelspec": {
   "display_name": "data_science",
   "language": "python",
   "name": "python3"
  },
  "language_info": {
   "name": "python",
   "version": "3.13.2"
  }
 },
 "nbformat": 4,
 "nbformat_minor": 5
}
